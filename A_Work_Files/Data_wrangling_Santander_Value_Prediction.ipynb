{
 "cells": [
  {
   "cell_type": "markdown",
   "id": "4823afce",
   "metadata": {},
   "source": [
    "Importing all the packages"
   ]
  },
  {
   "cell_type": "code",
   "execution_count": 3,
   "id": "0bfe7212",
   "metadata": {},
   "outputs": [],
   "source": [
    "import pandas as pd\n",
    "import numpy as np\n",
    "import matplotlib.pyplot as plt\n",
    "import seaborn as sns"
   ]
  },
  {
   "cell_type": "markdown",
   "id": "6155433c",
   "metadata": {},
   "source": [
    "Data Collection:"
   ]
  },
  {
   "cell_type": "code",
   "execution_count": 5,
   "id": "9c6955b9",
   "metadata": {},
   "outputs": [],
   "source": [
    "data_test = '/Users/sangth/Desktop/Capstone-2/Dataset_santander-value-prediction-challenge/test.csv'\n",
    "data_train = '/Users/sangth/Desktop/Capstone-2/Dataset_santander-value-prediction-challenge/train.csv'"
   ]
  },
  {
   "cell_type": "markdown",
   "id": "8780e5af",
   "metadata": {},
   "source": [
    "Read the dataset"
   ]
  },
  {
   "cell_type": "code",
   "execution_count": 7,
   "id": "5f2a823f",
   "metadata": {},
   "outputs": [],
   "source": [
    "df_test = pd.read_csv(data_test)\n",
    "df_train = pd.read_csv(data_train)"
   ]
  },
  {
   "cell_type": "code",
   "execution_count": 10,
   "id": "25c805e3",
   "metadata": {},
   "outputs": [
    {
     "name": "stdout",
     "output_type": "stream",
     "text": [
      "\n",
      " 10 Columns in the dataset:\n",
      "               ID  48df886f9  0deb4b6a8  34b15f335  a8cb14b00  2f0771a37  \\\n",
      "0      000137c73        0.0        0.0        0.0        0.0        0.0   \n",
      "1      00021489f        0.0        0.0        0.0        0.0        0.0   \n",
      "2      0004d7953        0.0        0.0        0.0        0.0        0.0   \n",
      "3      00056a333        0.0        0.0        0.0        0.0        0.0   \n",
      "4      00056d8eb        0.0        0.0        0.0        0.0        0.0   \n",
      "...          ...        ...        ...        ...        ...        ...   \n",
      "49337  fff73b677        0.0        0.0        0.0        0.0        0.0   \n",
      "49338  fff7b5923        0.0        0.0        0.0        0.0        0.0   \n",
      "49339  fff7c698f        0.0        0.0        0.0        0.0        0.0   \n",
      "49340  fff8dba89        0.0        0.0        0.0        0.0        0.0   \n",
      "49341  fffbe2f6f        0.0        0.0        0.0        0.0        0.0   \n",
      "\n",
      "       30347e683  d08d1fbe3  6ee66e115  20aa07010  \n",
      "0            0.0        0.0        0.0        0.0  \n",
      "1            0.0        0.0        0.0        0.0  \n",
      "2            0.0        0.0        0.0        0.0  \n",
      "3            0.0        0.0        0.0        0.0  \n",
      "4            0.0        0.0        0.0        0.0  \n",
      "...          ...        ...        ...        ...  \n",
      "49337        0.0        0.0        0.0        0.0  \n",
      "49338        0.0        0.0        0.0        0.0  \n",
      "49339        0.0        0.0        0.0        0.0  \n",
      "49340        0.0        0.0        0.0        0.0  \n",
      "49341        0.0        0.0        0.0        0.0  \n",
      "\n",
      "[49342 rows x 10 columns]\n",
      "\n",
      "Summary statistics:\n",
      "           48df886f9     0deb4b6a8     34b15f335     a8cb14b00     2f0771a37  \\\n",
      "count  4.934200e+04  4.934200e+04  4.934200e+04  4.934200e+04  4.934200e+04   \n",
      "mean   5.773787e+04  6.258726e+04  1.036752e+05  6.289853e+04  6.713354e+04   \n",
      "std    1.745182e+06  2.322787e+06  2.586951e+06  2.765941e+06  3.206124e+06   \n",
      "min    0.000000e+00  0.000000e+00  0.000000e+00  0.000000e+00  0.000000e+00   \n",
      "25%    0.000000e+00  0.000000e+00  0.000000e+00  0.000000e+00  0.000000e+00   \n",
      "50%    0.000000e+00  0.000000e+00  0.000000e+00  0.000000e+00  0.000000e+00   \n",
      "75%    0.000000e+00  0.000000e+00  0.000000e+00  0.000000e+00  0.000000e+00   \n",
      "max    1.504447e+08  2.283295e+08  2.758171e+08  3.972621e+08  4.667591e+08   \n",
      "\n",
      "          30347e683     d08d1fbe3     6ee66e115     20aa07010     dc5a8f1d8  \\\n",
      "count  4.934200e+04  4.934200e+04  4.934200e+04  4.934200e+04  4.934200e+04   \n",
      "mean   8.083879e+04  6.181014e+04  5.515752e+04  1.406324e+06  8.128668e+04   \n",
      "std    2.845031e+06  2.780137e+06  1.923517e+06  6.872366e+06  2.378938e+06   \n",
      "min    0.000000e+00  0.000000e+00  0.000000e+00  0.000000e+00  0.000000e+00   \n",
      "25%    0.000000e+00  0.000000e+00  0.000000e+00  0.000000e+00  0.000000e+00   \n",
      "50%    0.000000e+00  0.000000e+00  0.000000e+00  0.000000e+00  0.000000e+00   \n",
      "75%    0.000000e+00  0.000000e+00  0.000000e+00  0.000000e+00  0.000000e+00   \n",
      "max    2.852223e+08  4.863751e+08  2.043290e+08  3.435658e+08  2.310167e+08   \n",
      "\n",
      "       ...     3ecc09859     9281abeea     8675bec0b     3a13ed79a  \\\n",
      "count  ...  4.934200e+04  4.934200e+04  4.934200e+04  4.934200e+04   \n",
      "mean   ...  1.193910e+05  1.355955e+05  3.242217e+05  1.437856e+05   \n",
      "std    ...  3.115190e+06  2.598454e+06  3.782996e+06  3.663374e+06   \n",
      "min    ...  0.000000e+00  0.000000e+00  0.000000e+00  0.000000e+00   \n",
      "25%    ...  0.000000e+00  0.000000e+00  0.000000e+00  0.000000e+00   \n",
      "50%    ...  0.000000e+00  0.000000e+00  0.000000e+00  0.000000e+00   \n",
      "75%    ...  0.000000e+00  0.000000e+00  0.000000e+00  0.000000e+00   \n",
      "max    ...  5.351692e+08  1.236547e+08  3.793398e+08  4.025480e+08   \n",
      "\n",
      "          f677d4d13     71b203550     137efaa80     fb36b89d9     7e293fbaf  \\\n",
      "count  4.934200e+04  4.934200e+04  4.934200e+04  4.934200e+04  4.934200e+04   \n",
      "mean   9.302367e+04  8.047145e+04  6.076865e+04  1.323210e+05  1.675766e+05   \n",
      "std    5.041000e+06  2.100210e+06  2.040655e+06  3.592018e+06  3.761816e+06   \n",
      "min    0.000000e+00  0.000000e+00  0.000000e+00  0.000000e+00  0.000000e+00   \n",
      "25%    0.000000e+00  0.000000e+00  0.000000e+00  0.000000e+00  0.000000e+00   \n",
      "50%    0.000000e+00  0.000000e+00  0.000000e+00  0.000000e+00  0.000000e+00   \n",
      "75%    0.000000e+00  0.000000e+00  0.000000e+00  0.000000e+00  0.000000e+00   \n",
      "max    9.657530e+08  1.680065e+08  2.497913e+08  3.200000e+08  3.186300e+08   \n",
      "\n",
      "          9fc776466  \n",
      "count  4.934200e+04  \n",
      "mean   1.282487e+05  \n",
      "std    2.413798e+06  \n",
      "min    0.000000e+00  \n",
      "25%    0.000000e+00  \n",
      "50%    0.000000e+00  \n",
      "75%    0.000000e+00  \n",
      "max    2.189782e+08  \n",
      "\n",
      "[8 rows x 4991 columns]\n"
     ]
    }
   ],
   "source": [
    "#print('Shape of the test csv dataset :', df_test)\n",
    "#print('Shape of the train csv dataset :', df_train)\n",
    "\n",
    "print(\"\\n 10 Columns in the dataset:\\n\", df_test.iloc[:,:10])\n",
    "print(\"\\nSummary statistics:\\n\", df_test.describe())\n"
   ]
  },
  {
   "cell_type": "code",
   "execution_count": null,
   "id": "235920ee",
   "metadata": {},
   "outputs": [],
   "source": []
  }
 ],
 "metadata": {
  "kernelspec": {
   "display_name": "Python 3.9.13 ('base')",
   "language": "python",
   "name": "python3"
  },
  "language_info": {
   "codemirror_mode": {
    "name": "ipython",
    "version": 3
   },
   "file_extension": ".py",
   "mimetype": "text/x-python",
   "name": "python",
   "nbconvert_exporter": "python",
   "pygments_lexer": "ipython3",
   "version": "3.9.13"
  },
  "vscode": {
   "interpreter": {
    "hash": "48b71bc540cd0acc4a5cff3b2d8263e022bbde63c646d15e8a8dd6ce6c9dde39"
   }
  }
 },
 "nbformat": 4,
 "nbformat_minor": 5
}

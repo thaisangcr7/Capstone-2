{
 "cells": [
  {
   "cell_type": "code",
   "execution_count": null,
   "id": "65c3d788",
   "metadata": {},
   "outputs": [],
   "source": [
    "# Capstone Two: Exploratory Data Analysis\n",
    "#Goal: Explore the data relationships of all your features and understand how the features compare to the response variable. \n",
    "#●Build data profiles and tables \n",
    "## ○ Inferential statistics \n",
    "#● Explore data relationships \n",
    "## ○Data visualization \n",
    "#● Feature Selection and Engineering"
   ]
  },
  {
   "cell_type": "code",
   "execution_count": null,
   "id": "37d68c01",
   "metadata": {},
   "outputs": [],
   "source": []
  }
 ],
 "metadata": {
  "kernelspec": {
   "display_name": "Python 3 (ipykernel)",
   "language": "python",
   "name": "python3"
  },
  "language_info": {
   "codemirror_mode": {
    "name": "ipython",
    "version": 3
   },
   "file_extension": ".py",
   "mimetype": "text/x-python",
   "name": "python",
   "nbconvert_exporter": "python",
   "pygments_lexer": "ipython3",
   "version": "3.9.13"
  }
 },
 "nbformat": 4,
 "nbformat_minor": 5
}
